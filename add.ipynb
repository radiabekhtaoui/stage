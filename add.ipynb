{
 "cells": [
  {
   "cell_type": "code",
   "execution_count": 4,
   "metadata": {},
   "outputs": [
    {
     "ename": "AttributeError",
     "evalue": "'QasmQobj' object has no attribute 'name'",
     "output_type": "error",
     "traceback": [
      "\u001b[0;31m---------------------------------------------------------------------------\u001b[0m",
      "\u001b[0;31mAttributeError\u001b[0m                            Traceback (most recent call last)",
      "Cell \u001b[0;32mIn[4], line 40\u001b[0m\n\u001b[1;32m     37\u001b[0m a \u001b[39m=\u001b[39m \u001b[39m7\u001b[39m  \u001b[39m# Premier entier\u001b[39;00m\n\u001b[1;32m     38\u001b[0m b \u001b[39m=\u001b[39m \u001b[39m4\u001b[39m  \u001b[39m# Deuxième entier\u001b[39;00m\n\u001b[0;32m---> 40\u001b[0m result \u001b[39m=\u001b[39m add(a, b)\n\u001b[1;32m     41\u001b[0m \u001b[39mprint\u001b[39m(result)\n",
      "Cell \u001b[0;32mIn[4], line 28\u001b[0m, in \u001b[0;36madd\u001b[0;34m(a, b)\u001b[0m\n\u001b[1;32m     26\u001b[0m compiled_circuit \u001b[39m=\u001b[39m transpile(qc, simulator)\n\u001b[1;32m     27\u001b[0m qobj \u001b[39m=\u001b[39m assemble(compiled_circuit, simulator)\n\u001b[0;32m---> 28\u001b[0m result \u001b[39m=\u001b[39m execute(qobj, simulator)\u001b[39m.\u001b[39mresult()\n\u001b[1;32m     29\u001b[0m counts \u001b[39m=\u001b[39m result\u001b[39m.\u001b[39mget_counts()\n\u001b[1;32m     31\u001b[0m \u001b[39m# Convertir les résultats binaires en entiers\u001b[39;00m\n",
      "File \u001b[0;32m~/.local/lib/python3.10/site-packages/qiskit/utils/deprecation.py:182\u001b[0m, in \u001b[0;36mdeprecate_arg.<locals>.decorator.<locals>.wrapper\u001b[0;34m(*args, **kwargs)\u001b[0m\n\u001b[1;32m    169\u001b[0m \u001b[39m@functools\u001b[39m\u001b[39m.\u001b[39mwraps(func)\n\u001b[1;32m    170\u001b[0m \u001b[39mdef\u001b[39;00m \u001b[39mwrapper\u001b[39m(\u001b[39m*\u001b[39margs, \u001b[39m*\u001b[39m\u001b[39m*\u001b[39mkwargs):\n\u001b[1;32m    171\u001b[0m     _maybe_warn_and_rename_kwarg(\n\u001b[1;32m    172\u001b[0m         args,\n\u001b[1;32m    173\u001b[0m         kwargs,\n\u001b[0;32m   (...)\u001b[0m\n\u001b[1;32m    180\u001b[0m         predicate\u001b[39m=\u001b[39mpredicate,\n\u001b[1;32m    181\u001b[0m     )\n\u001b[0;32m--> 182\u001b[0m     \u001b[39mreturn\u001b[39;00m func(\u001b[39m*\u001b[39;49margs, \u001b[39m*\u001b[39;49m\u001b[39m*\u001b[39;49mkwargs)\n",
      "File \u001b[0;32m~/.local/lib/python3.10/site-packages/qiskit/utils/deprecation.py:182\u001b[0m, in \u001b[0;36mdeprecate_arg.<locals>.decorator.<locals>.wrapper\u001b[0;34m(*args, **kwargs)\u001b[0m\n\u001b[1;32m    169\u001b[0m \u001b[39m@functools\u001b[39m\u001b[39m.\u001b[39mwraps(func)\n\u001b[1;32m    170\u001b[0m \u001b[39mdef\u001b[39;00m \u001b[39mwrapper\u001b[39m(\u001b[39m*\u001b[39margs, \u001b[39m*\u001b[39m\u001b[39m*\u001b[39mkwargs):\n\u001b[1;32m    171\u001b[0m     _maybe_warn_and_rename_kwarg(\n\u001b[1;32m    172\u001b[0m         args,\n\u001b[1;32m    173\u001b[0m         kwargs,\n\u001b[0;32m   (...)\u001b[0m\n\u001b[1;32m    180\u001b[0m         predicate\u001b[39m=\u001b[39mpredicate,\n\u001b[1;32m    181\u001b[0m     )\n\u001b[0;32m--> 182\u001b[0m     \u001b[39mreturn\u001b[39;00m func(\u001b[39m*\u001b[39;49margs, \u001b[39m*\u001b[39;49m\u001b[39m*\u001b[39;49mkwargs)\n",
      "File \u001b[0;32m~/.local/lib/python3.10/site-packages/qiskit/execute_function.py:302\u001b[0m, in \u001b[0;36mexecute\u001b[0;34m(***failed resolving arguments***)\u001b[0m\n\u001b[1;32m    299\u001b[0m     experiments \u001b[39m=\u001b[39m pass_manager\u001b[39m.\u001b[39mrun(experiments)\n\u001b[1;32m    300\u001b[0m \u001b[39melse\u001b[39;00m:\n\u001b[1;32m    301\u001b[0m     \u001b[39m# transpiling the circuits using given transpile options\u001b[39;00m\n\u001b[0;32m--> 302\u001b[0m     experiments \u001b[39m=\u001b[39m transpile(\n\u001b[1;32m    303\u001b[0m         experiments,\n\u001b[1;32m    304\u001b[0m         basis_gates\u001b[39m=\u001b[39;49mbasis_gates,\n\u001b[1;32m    305\u001b[0m         coupling_map\u001b[39m=\u001b[39;49mcoupling_map,\n\u001b[1;32m    306\u001b[0m         backend_properties\u001b[39m=\u001b[39;49mbackend_properties,\n\u001b[1;32m    307\u001b[0m         initial_layout\u001b[39m=\u001b[39;49minitial_layout,\n\u001b[1;32m    308\u001b[0m         seed_transpiler\u001b[39m=\u001b[39;49mseed_transpiler,\n\u001b[1;32m    309\u001b[0m         optimization_level\u001b[39m=\u001b[39;49moptimization_level,\n\u001b[1;32m    310\u001b[0m         backend\u001b[39m=\u001b[39;49mbackend,\n\u001b[1;32m    311\u001b[0m     )\n\u001b[1;32m    313\u001b[0m \u001b[39mif\u001b[39;00m schedule_circuit:\n\u001b[1;32m    314\u001b[0m     experiments \u001b[39m=\u001b[39m schedule(\n\u001b[1;32m    315\u001b[0m         circuits\u001b[39m=\u001b[39mexperiments,\n\u001b[1;32m    316\u001b[0m         backend\u001b[39m=\u001b[39mbackend,\n\u001b[0;32m   (...)\u001b[0m\n\u001b[1;32m    319\u001b[0m         method\u001b[39m=\u001b[39mscheduling_method,\n\u001b[1;32m    320\u001b[0m     )\n",
      "File \u001b[0;32m~/.local/lib/python3.10/site-packages/qiskit/compiler/transpiler.py:325\u001b[0m, in \u001b[0;36mtranspile\u001b[0;34m(circuits, backend, basis_gates, inst_map, coupling_map, backend_properties, initial_layout, layout_method, routing_method, translation_method, scheduling_method, instruction_durations, dt, approximation_degree, timing_constraints, seed_transpiler, optimization_level, callback, output_name, unitary_synthesis_method, unitary_synthesis_plugin_config, target, hls_config, init_method, optimization_method, ignore_backend_supplied_default_methods)\u001b[0m\n\u001b[1;32m    313\u001b[0m \u001b[39mif\u001b[39;00m (\n\u001b[1;32m    314\u001b[0m     scheduling_method \u001b[39mis\u001b[39;00m \u001b[39mnot\u001b[39;00m \u001b[39mNone\u001b[39;00m\n\u001b[1;32m    315\u001b[0m     \u001b[39mand\u001b[39;00m backend \u001b[39mis\u001b[39;00m \u001b[39mNone\u001b[39;00m\n\u001b[1;32m    316\u001b[0m     \u001b[39mand\u001b[39;00m target \u001b[39mis\u001b[39;00m \u001b[39mNone\u001b[39;00m\n\u001b[1;32m    317\u001b[0m     \u001b[39mand\u001b[39;00m \u001b[39mnot\u001b[39;00m instruction_durations\n\u001b[1;32m    318\u001b[0m ):\n\u001b[1;32m    319\u001b[0m     warnings\u001b[39m.\u001b[39mwarn(\n\u001b[1;32m    320\u001b[0m         \u001b[39m\"\u001b[39m\u001b[39mWhen scheduling circuits without backend,\u001b[39m\u001b[39m\"\u001b[39m\n\u001b[1;32m    321\u001b[0m         \u001b[39m\"\u001b[39m\u001b[39m \u001b[39m\u001b[39m'\u001b[39m\u001b[39minstruction_durations\u001b[39m\u001b[39m'\u001b[39m\u001b[39m should be usually provided.\u001b[39m\u001b[39m\"\u001b[39m,\n\u001b[1;32m    322\u001b[0m         \u001b[39mUserWarning\u001b[39;00m,\n\u001b[1;32m    323\u001b[0m     )\n\u001b[0;32m--> 325\u001b[0m unique_transpile_args, shared_args \u001b[39m=\u001b[39m _parse_transpile_args(\n\u001b[1;32m    326\u001b[0m     circuits,\n\u001b[1;32m    327\u001b[0m     backend,\n\u001b[1;32m    328\u001b[0m     basis_gates,\n\u001b[1;32m    329\u001b[0m     inst_map,\n\u001b[1;32m    330\u001b[0m     coupling_map,\n\u001b[1;32m    331\u001b[0m     backend_properties,\n\u001b[1;32m    332\u001b[0m     initial_layout,\n\u001b[1;32m    333\u001b[0m     layout_method,\n\u001b[1;32m    334\u001b[0m     routing_method,\n\u001b[1;32m    335\u001b[0m     translation_method,\n\u001b[1;32m    336\u001b[0m     scheduling_method,\n\u001b[1;32m    337\u001b[0m     instruction_durations,\n\u001b[1;32m    338\u001b[0m     dt,\n\u001b[1;32m    339\u001b[0m     approximation_degree,\n\u001b[1;32m    340\u001b[0m     seed_transpiler,\n\u001b[1;32m    341\u001b[0m     optimization_level,\n\u001b[1;32m    342\u001b[0m     callback,\n\u001b[1;32m    343\u001b[0m     output_name,\n\u001b[1;32m    344\u001b[0m     timing_constraints,\n\u001b[1;32m    345\u001b[0m     unitary_synthesis_method,\n\u001b[1;32m    346\u001b[0m     unitary_synthesis_plugin_config,\n\u001b[1;32m    347\u001b[0m     target,\n\u001b[1;32m    348\u001b[0m     hls_config,\n\u001b[1;32m    349\u001b[0m     init_method,\n\u001b[1;32m    350\u001b[0m     optimization_method,\n\u001b[1;32m    351\u001b[0m     ignore_backend_supplied_default_methods,\n\u001b[1;32m    352\u001b[0m )\n\u001b[1;32m    353\u001b[0m \u001b[39m# Get transpile_args to configure the circuit transpilation job(s)\u001b[39;00m\n\u001b[1;32m    354\u001b[0m \u001b[39mif\u001b[39;00m \u001b[39m\"\u001b[39m\u001b[39mcoupling_map\u001b[39m\u001b[39m\"\u001b[39m \u001b[39mnot\u001b[39;00m \u001b[39min\u001b[39;00m shared_args:\n",
      "File \u001b[0;32m~/.local/lib/python3.10/site-packages/qiskit/compiler/transpiler.py:577\u001b[0m, in \u001b[0;36m_parse_transpile_args\u001b[0;34m(circuits, backend, basis_gates, inst_map, coupling_map, backend_properties, initial_layout, layout_method, routing_method, translation_method, scheduling_method, instruction_durations, dt, approximation_degree, seed_transpiler, optimization_level, callback, output_name, timing_constraints, unitary_synthesis_method, unitary_synthesis_plugin_config, target, hls_config, init_method, optimization_method, ignore_backend_supplied_default_methods)\u001b[0m\n\u001b[1;32m    575\u001b[0m backend_num_qubits \u001b[39m=\u001b[39m _parse_backend_num_qubits(backend, num_circuits)\n\u001b[1;32m    576\u001b[0m approximation_degree \u001b[39m=\u001b[39m _parse_approximation_degree(approximation_degree)\n\u001b[0;32m--> 577\u001b[0m output_name \u001b[39m=\u001b[39m _parse_output_name(output_name, circuits)\n\u001b[1;32m    578\u001b[0m callback \u001b[39m=\u001b[39m _parse_callback(callback, num_circuits)\n\u001b[1;32m    579\u001b[0m durations \u001b[39m=\u001b[39m _parse_instruction_durations(backend, instruction_durations, dt, circuits)\n",
      "File \u001b[0;32m~/.local/lib/python3.10/site-packages/qiskit/compiler/transpiler.py:896\u001b[0m, in \u001b[0;36m_parse_output_name\u001b[0;34m(output_name, circuits)\u001b[0m\n\u001b[1;32m    891\u001b[0m         \u001b[39mraise\u001b[39;00m TranspilerError(\n\u001b[1;32m    892\u001b[0m             \u001b[39m\"\u001b[39m\u001b[39mThe parameter output_name should be a string or a\u001b[39m\u001b[39m\"\u001b[39m\n\u001b[1;32m    893\u001b[0m             \u001b[39m\"\u001b[39m\u001b[39mlist of strings: \u001b[39m\u001b[39m%s\u001b[39;00m\u001b[39m was used.\u001b[39m\u001b[39m\"\u001b[39m \u001b[39m%\u001b[39m \u001b[39mtype\u001b[39m(output_name)\n\u001b[1;32m    894\u001b[0m         )\n\u001b[1;32m    895\u001b[0m \u001b[39melse\u001b[39;00m:\n\u001b[0;32m--> 896\u001b[0m     \u001b[39mreturn\u001b[39;00m [circuit\u001b[39m.\u001b[39mname \u001b[39mfor\u001b[39;00m circuit \u001b[39min\u001b[39;00m circuits]\n",
      "File \u001b[0;32m~/.local/lib/python3.10/site-packages/qiskit/compiler/transpiler.py:896\u001b[0m, in \u001b[0;36m<listcomp>\u001b[0;34m(.0)\u001b[0m\n\u001b[1;32m    891\u001b[0m         \u001b[39mraise\u001b[39;00m TranspilerError(\n\u001b[1;32m    892\u001b[0m             \u001b[39m\"\u001b[39m\u001b[39mThe parameter output_name should be a string or a\u001b[39m\u001b[39m\"\u001b[39m\n\u001b[1;32m    893\u001b[0m             \u001b[39m\"\u001b[39m\u001b[39mlist of strings: \u001b[39m\u001b[39m%s\u001b[39;00m\u001b[39m was used.\u001b[39m\u001b[39m\"\u001b[39m \u001b[39m%\u001b[39m \u001b[39mtype\u001b[39m(output_name)\n\u001b[1;32m    894\u001b[0m         )\n\u001b[1;32m    895\u001b[0m \u001b[39melse\u001b[39;00m:\n\u001b[0;32m--> 896\u001b[0m     \u001b[39mreturn\u001b[39;00m [circuit\u001b[39m.\u001b[39;49mname \u001b[39mfor\u001b[39;00m circuit \u001b[39min\u001b[39;00m circuits]\n",
      "\u001b[0;31mAttributeError\u001b[0m: 'QasmQobj' object has no attribute 'name'"
     ]
    }
   ],
   "source": [
    "from qiskit.circuit.library import DraperQFTAdder\n",
    "from qiskit import QuantumCircuit, transpile, assemble, Aer, execute\n",
    "\n",
    "def add(a, b):\n",
    "    # Calculer le nombre de qubits nécessaires pour représenter les entiers\n",
    "    n = max(a.bit_length(), b.bit_length())\n",
    "    \n",
    "    # Créer un circuit quantique avec 2n qubits\n",
    "    qc = QuantumCircuit(2 * n)\n",
    "    \n",
    "    # Initialiser les qubits d'entrée à l'état approprié\n",
    "    for i, bit in enumerate(format(a, '0{}b'.format(n))[::-1]):\n",
    "        if bit == '1':\n",
    "            qc.x(i)\n",
    "    \n",
    "    for i, bit in enumerate(format(b, '0{}b'.format(n))[::-1]):\n",
    "        if bit == '1':\n",
    "            qc.x(i + n)\n",
    "    \n",
    "    # Utiliser le composant DraperQFTAdder pour effectuer l'addition\n",
    "    adder = DraperQFTAdder(num_state_qubits=n, kind='fixed')\n",
    "    qc.append(adder, range(2 * n))\n",
    "    \n",
    "    # Compiler et exécuter le circuit sur un simulateur quantique\n",
    "    simulator = Aer.get_backend('qasm_simulator')\n",
    "    compiled_circuit = transpile(qc, simulator)\n",
    "    qobj = assemble(compiled_circuit, simulator)\n",
    "    result = execute(qobj, simulator).result()\n",
    "    counts = result.get_counts()\n",
    "    \n",
    "    # Convertir les résultats binaires en entiers\n",
    "    output = {int(output[::-1], 2): counts[output] for output in counts}\n",
    "    \n",
    "    return output\n",
    "\n",
    "# Exemple d'utilisation de la fonction add\n",
    "a = 7  # Premier entier\n",
    "b = 4  # Deuxième entier\n",
    "\n",
    "result = add(a, b)\n",
    "print(result)\n"
   ]
  },
  {
   "cell_type": "code",
   "execution_count": null,
   "metadata": {},
   "outputs": [],
   "source": []
  }
 ],
 "metadata": {
  "kernelspec": {
   "display_name": "Python 3",
   "language": "python",
   "name": "python3"
  },
  "language_info": {
   "codemirror_mode": {
    "name": "ipython",
    "version": 3
   },
   "file_extension": ".py",
   "mimetype": "text/x-python",
   "name": "python",
   "nbconvert_exporter": "python",
   "pygments_lexer": "ipython3",
   "version": "3.10.6"
  },
  "orig_nbformat": 4
 },
 "nbformat": 4,
 "nbformat_minor": 2
}
