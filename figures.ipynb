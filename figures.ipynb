{
 "cells": [
  {
   "cell_type": "code",
   "execution_count": 5,
   "metadata": {},
   "outputs": [],
   "source": [
    "from qiskit import *\n",
    "from qiskit.visualization import plot_bloch_multivector, circuit_drawer,plot_histogram\n",
    "import numpy as np"
   ]
  },
  {
   "cell_type": "code",
   "execution_count": 6,
   "metadata": {},
   "outputs": [],
   "source": [
    "#Figure 1 et 2\n",
    "# Création du circuit à deux qubits\n",
    "circuit = QuantumCircuit(2)\n",
    "\n",
    "# Application de la porte NOT (X) sur le premier qubit\n",
    "circuit.x(0)\n",
    "\n",
    "# Visualisation du circuit\n",
    "circuit_drawer(circuit, output='mpl', filename=\"not.png\")\n",
    "\n",
    "# Exécution du circuit sur un simulateur quantique\n",
    "simulator = Aer.get_backend('statevector_simulator')\n",
    "job = execute(circuit, simulator)\n",
    "result = job.result()\n",
    "statevector = result.get_statevector()\n",
    "\n",
    "# Visualisation de la sphère d'état des deux qubits\n",
    "plot_bloch_multivector(statevector).savefig(\"not_sphere.png\")\n"
   ]
  },
  {
   "cell_type": "code",
   "execution_count": 7,
   "metadata": {},
   "outputs": [],
   "source": [
    "#Figure 3,4,5\n",
    "# Création du circuit à deux qubits\n",
    "circuit = QuantumCircuit(2)\n",
    "\n",
    "# Application de la porte Hadamard sur le premier qubit\n",
    "circuit.h(0)\n",
    "\n",
    "# Visualisation du circuit\n",
    "circuit_drawer(circuit, output='mpl', filename='h.png')\n",
    "# Exécution du circuit sur un simulateur quantique\n",
    "simulator = Aer.get_backend('statevector_simulator')\n",
    "job = execute(circuit, simulator)\n",
    "result = job.result()\n",
    "statevector = result.get_statevector()\n",
    "\n",
    "# Visualisation de la sphère d'état des deux qubits\n",
    "plot_bloch_multivector(statevector).savefig(\"hadamard_sphere.png\")\n",
    "\n",
    "# Visualisation de l'histogramme des résultats de mesure\n",
    "plot_histogram(result.get_counts(circuit),filename=\"hadamard_histogram.png\")\n",
    "\n"
   ]
  },
  {
   "cell_type": "code",
   "execution_count": 18,
   "metadata": {},
   "outputs": [],
   "source": [
    "#Figure 6 et 7\n",
    "#Création du circuit à un qubit\n",
    "circuit = QuantumCircuit(1)\n",
    "\n",
    "# Angle de rotation (π/4)\n",
    "theta = np.pi/4\n",
    "\n",
    "# Visualisation de la sphère d'état avant l'application de la porte ROTX\n",
    "simulator = Aer.get_backend('statevector_simulator')\n",
    "job = execute(circuit, simulator)\n",
    "result = job.result()\n",
    "statevector = result.get_statevector()\n",
    "plot_bloch_multivector(statevector).savefig(\"before_rotx.png\")\n",
    "\n",
    "# Application de la porte ROTX(π/4) sur le qubit 0\n",
    "circuit.rx(theta, 0)\n",
    "\n",
    "# Visualisation de la sphère d'état après l'application de la porte ROTX\n",
    "job = execute(circuit, simulator)\n",
    "result = job.result()\n",
    "statevector = result.get_statevector()\n",
    "plot_bloch_multivector(statevector).savefig(\"after_rotx.png\")"
   ]
  },
  {
   "cell_type": "code",
   "execution_count": 20,
   "metadata": {},
   "outputs": [
    {
     "data": {
      "image/png": "[encoded data removed]",
      "text/plain": [
       "<Figure size 203.683x200.667 with 1 Axes>"
      ]
     },
     "execution_count": 20,
     "metadata": {},
     "output_type": "execute_result"
    }
   ],
   "source": [
    "#Figure 8\n",
    "# Création du circuit à deux qubits\n",
    "circuit = QuantumCircuit(2)\n",
    "\n",
    "# Application de la porte CNOT (CX) avec le premier qubit comme contrôle et le deuxième qubit comme cible\n",
    "circuit.cx(0, 1)\n",
    "\n",
    "# Visualisation du circuit\n",
    "circuit_drawer(circuit, output='mpl', filename='cnot.png')\n"
   ]
  },
  {
   "cell_type": "code",
   "execution_count": 21,
   "metadata": {},
   "outputs": [
    {
     "data": {
      "image/png": "[encoded data removed]",
      "text/plain": [
       "<Figure size 203.885x284.278 with 1 Axes>"
      ]
     },
     "execution_count": 21,
     "metadata": {},
     "output_type": "execute_result"
    }
   ],
   "source": [
    "#Figure 9\n",
    "# Création du circuit à trois qubits\n",
    "circuit = QuantumCircuit(3)\n",
    "\n",
    "# Application de la porte Toffoli (CCX) avec les deux premiers qubits comme contrôles et le troisième qubit comme cible\n",
    "circuit.ccx(0, 1, 2)\n",
    "\n",
    "# Visualisation du circuit\n",
    "circuit_drawer(circuit, output='mpl', filename='toffoli.png')"
   ]
  },
  {
   "cell_type": "code",
   "execution_count": 22,
   "metadata": {},
   "outputs": [
    {
     "data": {
      "image/png": "[encoded data removed]",
      "text/plain": [
       "<Figure size 203.683x200.667 with 1 Axes>"
      ]
     },
     "execution_count": 22,
     "metadata": {},
     "output_type": "execute_result"
    }
   ],
   "source": [
    "#Figure 10\n",
    "# Création du circuit à deux qubits\n",
    "circuit = QuantumCircuit(2)\n",
    "\n",
    "# Application de la porte Swap\n",
    "circuit.swap(0, 1)\n",
    "\n",
    "# Visualisation du circuit\n",
    "circuit_drawer(circuit, output='mpl', filename='swap.png')"
   ]
  },
  {
   "cell_type": "code",
   "execution_count": 23,
   "metadata": {},
   "outputs": [
    {
     "name": "stdout",
     "output_type": "stream",
     "text": [
      "Base de calcul |000>\n"
     ]
    },
    {
     "data": {
      "text/plain": [
       "None"
      ]
     },
     "metadata": {},
     "output_type": "display_data"
    },
    {
     "name": "stdout",
     "output_type": "stream",
     "text": [
      "Base de Fourier |000>\n"
     ]
    },
    {
     "data": {
      "text/plain": [
       "None"
      ]
     },
     "metadata": {},
     "output_type": "display_data"
    }
   ],
   "source": [
    "#Figure 11 et 12\n",
    "from qiskit import QuantumCircuit, transpile, assemble, Aer, execute\n",
    "from qiskit.visualization import plot_bloch_multivector\n",
    "from qiskit.quantum_info import Statevector\n",
    "from qiskit.circuit.library import QFT\n",
    "\n",
    "state = \"000\"\n",
    "\n",
    "mycircuit = QuantumCircuit(len(state))\n",
    "mycircuit.initialize(Statevector.from_label(state).data, mycircuit.qubits[::-1])\n",
    "\n",
    "#print(f\"Base de calcul |{state}>\")\n",
    "display(plot_bloch_multivector(Statevector.from_instruction(mycircuit).data).savefig('calcul_base.png'))\n",
    "\n",
    "#print(f\"Base de Fourier |{state}>\")\n",
    "mycircuit.append(QFT(len(state), do_swaps=False), mycircuit.qubits)\n",
    "display(plot_bloch_multivector(Statevector.from_instruction(mycircuit).data).savefig('fourier_base.png'))\n"
   ]
  },
  {
   "cell_type": "code",
   "execution_count": null,
   "metadata": {},
   "outputs": [],
   "source": []
  }
 ],
 "metadata": {
  "kernelspec": {
   "display_name": "Python 3",
   "language": "python",
   "name": "python3"
  },
  "language_info": {
   "codemirror_mode": {
    "name": "ipython",
    "version": 3
   },
   "file_extension": ".py",
   "mimetype": "text/x-python",
   "name": "python",
   "nbconvert_exporter": "python",
   "pygments_lexer": "ipython3",
   "version": "3.10.6"
  },
  "orig_nbformat": 4
 },
 "nbformat": 4,
 "nbformat_minor": 2
}
