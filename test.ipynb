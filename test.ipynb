{
 "cells": [
  {
   "cell_type": "code",
   "execution_count": 1,
   "metadata": {},
   "outputs": [],
   "source": [
    "from qiskit import *\n",
    "from qiskit.circuit import Gate\n",
    "from qiskit.visualization import circuit_drawer \n",
    "from qiskit.circuit.library import DraperQFTAdder,RGQFTMultiplier"
   ]
  },
  {
   "cell_type": "code",
   "execution_count": 2,
   "metadata": {},
   "outputs": [],
   "source": [
    "n=1"
   ]
  },
  {
   "cell_type": "code",
   "execution_count": 3,
   "metadata": {},
   "outputs": [],
   "source": [
    "a0=\"1\"\n",
    "a1=\"0\"\n",
    "a2=\"0\"\n",
    "x=\"0\"\n",
    "n=1\n",
    "qr = QuantumRegister(15*n+7, 'q')\n",
    "c= ClassicalRegister(4*n+3)\n",
    "circ = QuantumCircuit(qr,c)\n",
    "for i in range(n):\n",
    "        if x[i] == '1':\n",
    "            circ.x(qr[i])\n",
    "        if a2[i] == '1':\n",
    "            circ.x(qr[i+(2*n+1)])\n",
    "        if a1[i] == '1':\n",
    "            circ.x(qr[i+(5*n+1)])\n",
    "        if a0[i] == '1':\n",
    "            circ.x(qr[i+(n*11+4)])\n",
    "#circuit_drawer(circ,output=\"mpl\")\n"
   ]
  },
  {
   "cell_type": "code",
   "execution_count": 4,
   "metadata": {},
   "outputs": [],
   "source": [
    "\n",
    "qm = QuantumRegister(4*n, 'q')\n",
    "circuit_mult = QuantumCircuit(qm)\n",
    "tmp = RGQFTMultiplier(num_state_qubits=n, num_result_qubits=2*n,name =\"mult\")\n",
    "circuit_mult = circuit_mult.compose(tmp)\n",
    "mult = circuit_mult.to_instruction()\n",
    "circ.append(mult,[qr[0],qr[3], qr[4],qr[5]])\n",
    "\n",
    "\n",
    "n=n*2\n",
    "qa = QuantumRegister(2*n+1, 'q')\n",
    "circuit_add = QuantumCircuit(qa)\n",
    "tmp = DraperQFTAdder(num_state_qubits=1,kind=\"half\",name=\"add\")\n",
    "circuit_add = circuit_add.compose(tmp)\n",
    "circ.append(circuit_add,[qr[4],qr[5], qr[6],qr[7],qr[8]])\n",
    "\n",
    "\n",
    "n+=1\n",
    "qm = QuantumRegister(4*n, 'q')\n",
    "circuit_mult = QuantumCircuit(qm)\n",
    "tmp = RGQFTMultiplier(num_state_qubits=n, num_result_qubits=2*n,name =\"mult\")\n",
    "circuit_mult = circuit_mult.compose(tmp)\n",
    "mult = circuit_mult.to_instruction()\n",
    "circ.append(mult,[qr[0],qr[1],qr[2] ,qr[6],qr[7],qr[8],qr[9],qr[10],qr[11] ,qr[12],qr[13],qr[14]])\n",
    "\n",
    "\n",
    "n*=2\n",
    "qa = QuantumRegister(2*n+1, 'q')\n",
    "circuit_add = QuantumCircuit(qa)\n",
    "tmp = DraperQFTAdder(num_state_qubits=1,kind=\"half\",name=\"add\")\n",
    "circuit_add = circuit_add.compose(tmp)\n",
    "circ.append(circuit_add,[qr[9],qr[10], qr[11],qr[12],qr[13],qr[14],qr[15],qr[16],qr[17], qr[18],qr[19],qr[20],qr[21]])\n",
    "\n",
    "\n",
    "n=1\n",
    "for i in range(4*n+3):\n",
    "        circ.measure(qr[i+(n*11+4)], c[i])\n",
    "\n",
    "\n",
    "#circuit_drawer(circ,output=\"mpl\",filename=\"polynom.png\")"
   ]
  },
  {
   "cell_type": "code",
   "execution_count": 5,
   "metadata": {},
   "outputs": [
    {
     "name": "stdout",
     "output_type": "stream",
     "text": [
      "{'0000001': 100}\n"
     ]
    }
   ],
   "source": [
    "\n",
    "backend = Aer.get_backend('qasm_simulator')\n",
    "job = execute(circ, backend, shots=100)\n",
    "result = job.result()\n",
    "counts = result.get_counts()\n",
    "\n",
    "print(counts)"
   ]
  },
  {
   "cell_type": "code",
   "execution_count": null,
   "metadata": {},
   "outputs": [],
   "source": []
  },
  {
   "cell_type": "code",
   "execution_count": null,
   "metadata": {},
   "outputs": [],
   "source": []
  },
  {
   "cell_type": "code",
   "execution_count": null,
   "metadata": {},
   "outputs": [],
   "source": []
  }
 ],
 "metadata": {
  "kernelspec": {
   "display_name": "Python 3",
   "language": "python",
   "name": "python3"
  },
  "language_info": {
   "codemirror_mode": {
    "name": "ipython",
    "version": 3
   },
   "file_extension": ".py",
   "mimetype": "text/x-python",
   "name": "python",
   "nbconvert_exporter": "python",
   "pygments_lexer": "ipython3",
   "version": "3.10.6"
  },
  "orig_nbformat": 4
 },
 "nbformat": 4,
 "nbformat_minor": 2
}
