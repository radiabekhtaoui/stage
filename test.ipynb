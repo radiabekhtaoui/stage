{
 "cells": [
  {
   "cell_type": "code",
   "execution_count": 1,
   "metadata": {},
   "outputs": [],
   "source": [
    "from qiskit import *\n",
    "from qiskit.circuit import Gate\n",
    "from qiskit.visualization import circuit_drawer \n",
    "from qiskit.circuit.library import DraperQFTAdder,RGQFTMultiplier"
   ]
  },
  {
   "cell_type": "code",
   "execution_count": 2,
   "metadata": {},
   "outputs": [
    {
     "name": "stdout",
     "output_type": "stream",
     "text": [
      "     ┌───────┐\n",
      "q_0: ┤0      ├\n",
      "     │       │\n",
      "q_1: ┤1      ├\n",
      "     │       │\n",
      "q_2: ┤2      ├\n",
      "     │       │\n",
      "q_3: ┤3      ├\n",
      "     │  mult │\n",
      "q_4: ┤4      ├\n",
      "     │       │\n",
      "q_5: ┤5      ├\n",
      "     │       │\n",
      "q_6: ┤6      ├\n",
      "     │       │\n",
      "q_7: ┤7      ├\n",
      "     └───────┘\n",
      "     ┌──────┐\n",
      "q_0: ┤0     ├\n",
      "     │      │\n",
      "q_1: ┤1 add ├\n",
      "     │      │\n",
      "q_2: ┤2     ├\n",
      "     └──────┘\n",
      "q_3: ────────\n",
      "             \n",
      "q_4: ────────\n",
      "             \n"
     ]
    }
   ],
   "source": [
    "# Build a sub-circuit\n",
    "n=2\n",
    "qm = QuantumRegister(4*n, 'q')\n",
    "circuit_mult = QuantumCircuit(qm)\n",
    "tmp = RGQFTMultiplier(num_state_qubits=n, num_result_qubits=2*n,name =\"mult\")\n",
    "circuit_mult = circuit_mult.compose(tmp)\n",
    "print(circuit_mult)\n",
    "mult = circuit_mult.to_instruction()\n",
    "qa = QuantumRegister(2*n+1, 'q')\n",
    "circuit_add = QuantumCircuit(qa)\n",
    "tmp = DraperQFTAdder(num_state_qubits=1,kind=\"half\",name=\"add\")\n",
    "circuit_add = circuit_add.compose(tmp)\n",
    "print(circuit_add)\n",
    "\n"
   ]
  },
  {
   "cell_type": "code",
   "execution_count": 5,
   "metadata": {},
   "outputs": [
    {
     "name": "stdout",
     "output_type": "stream",
     "text": [
      "           \n",
      " q_0: ─────\n",
      "      ┌───┐\n",
      " q_1: ┤ H ├\n",
      "      ├───┤\n",
      " q_2: ┤ H ├\n",
      "      ├───┤\n",
      " q_3: ┤ H ├\n",
      "      ├───┤\n",
      " q_4: ┤ H ├\n",
      "      ├───┤\n",
      " q_5: ┤ H ├\n",
      "      └───┘\n",
      " q_6: ─────\n",
      "           \n",
      " q_7: ─────\n",
      "           \n",
      " q_8: ─────\n",
      "           \n",
      " q_9: ─────\n",
      "           \n",
      "q_10: ─────\n",
      "           \n"
     ]
    }
   ],
   "source": [
    "qr = QuantumRegister(3*n+5, 'q')\n",
    "c= ClassicalRegister(2*n)\n",
    "circ = QuantumCircuit(qr,)\n",
    "circ.h(qr[1])\n",
    "circ.h(qr[2])\n",
    "circ.h(qr[3])\n",
    "circ.h(qr[4])\n",
    "circ.h(qr[5])\n",
    "print(circ)\n"
   ]
  },
  {
   "cell_type": "code",
   "execution_count": 6,
   "metadata": {},
   "outputs": [
    {
     "name": "stdout",
     "output_type": "stream",
     "text": [
      "                           \n",
      " q_0: ─────────────────────\n",
      "      ┌───┐                \n",
      " q_1: ┤ H ├────────────────\n",
      "      ├───┤┌──────────────┐\n",
      " q_2: ┤ H ├┤0             ├\n",
      "      ├───┤│              │\n",
      " q_3: ┤ H ├┤1             ├\n",
      "      ├───┤│              │\n",
      " q_4: ┤ H ├┤2             ├\n",
      "      ├───┤│              │\n",
      " q_5: ┤ H ├┤3             ├\n",
      "      └───┘│  circuit-114 │\n",
      " q_6: ─────┤4             ├\n",
      "           │              │\n",
      " q_7: ─────┤5             ├\n",
      "           │              │\n",
      " q_8: ─────┤6             ├\n",
      "           │              │\n",
      " q_9: ─────┤7             ├\n",
      "           └──────────────┘\n",
      "q_10: ─────────────────────\n",
      "                           \n"
     ]
    },
    {
     "ename": "CircuitError",
     "evalue": "'The amount of qubit arguments 3 does not match the instruction expectation (5).'",
     "output_type": "error",
     "traceback": [
      "\u001b[0;31m---------------------------------------------------------------------------\u001b[0m",
      "\u001b[0;31mCircuitError\u001b[0m                              Traceback (most recent call last)",
      "Cell \u001b[0;32mIn[6], line 3\u001b[0m\n\u001b[1;32m      1\u001b[0m circ\u001b[39m.\u001b[39mappend(mult,[qr[\u001b[39m2\u001b[39m],qr[\u001b[39m3\u001b[39m], qr[\u001b[39m4\u001b[39m],qr[\u001b[39m5\u001b[39m],qr[\u001b[39m6\u001b[39m],qr[\u001b[39m7\u001b[39m], qr[\u001b[39m8\u001b[39m],qr[\u001b[39m9\u001b[39m]])\n\u001b[1;32m      2\u001b[0m \u001b[39mprint\u001b[39m(circ)\n\u001b[0;32m----> 3\u001b[0m circ\u001b[39m.\u001b[39;49mappend(circuit_add,[qr[\u001b[39m0\u001b[39;49m],qr[\u001b[39m1\u001b[39;49m], qr[\u001b[39m9\u001b[39;49m]])\n\u001b[1;32m      4\u001b[0m \u001b[39mprint\u001b[39m(circ)\n",
      "File \u001b[0;32m~/.local/lib/python3.10/site-packages/qiskit/circuit/quantumcircuit.py:1313\u001b[0m, in \u001b[0;36mQuantumCircuit.append\u001b[0;34m(self, instruction, qargs, cargs)\u001b[0m\n\u001b[1;32m   1311\u001b[0m instructions \u001b[39m=\u001b[39m InstructionSet(resource_requester\u001b[39m=\u001b[39mrequester)\n\u001b[1;32m   1312\u001b[0m \u001b[39mif\u001b[39;00m \u001b[39misinstance\u001b[39m(operation, Instruction):\n\u001b[0;32m-> 1313\u001b[0m     \u001b[39mfor\u001b[39;00m qarg, carg \u001b[39min\u001b[39;00m operation\u001b[39m.\u001b[39mbroadcast_arguments(expanded_qargs, expanded_cargs):\n\u001b[1;32m   1314\u001b[0m         \u001b[39mself\u001b[39m\u001b[39m.\u001b[39m_check_dups(qarg)\n\u001b[1;32m   1315\u001b[0m         instruction \u001b[39m=\u001b[39m CircuitInstruction(operation, qarg, carg)\n",
      "File \u001b[0;32m~/.local/lib/python3.10/site-packages/qiskit/circuit/instruction.py:480\u001b[0m, in \u001b[0;36mInstruction.broadcast_arguments\u001b[0;34m(self, qargs, cargs)\u001b[0m\n\u001b[1;32m    465\u001b[0m \u001b[39m\"\"\"\u001b[39;00m\n\u001b[1;32m    466\u001b[0m \u001b[39mValidation of the arguments.\u001b[39;00m\n\u001b[1;32m    467\u001b[0m \n\u001b[0;32m   (...)\u001b[0m\n\u001b[1;32m    477\u001b[0m \u001b[39m        arguments does not match the gate expectation.\u001b[39;00m\n\u001b[1;32m    478\u001b[0m \u001b[39m\"\"\"\u001b[39;00m\n\u001b[1;32m    479\u001b[0m \u001b[39mif\u001b[39;00m \u001b[39mlen\u001b[39m(qargs) \u001b[39m!=\u001b[39m \u001b[39mself\u001b[39m\u001b[39m.\u001b[39mnum_qubits:\n\u001b[0;32m--> 480\u001b[0m     \u001b[39mraise\u001b[39;00m CircuitError(\n\u001b[1;32m    481\u001b[0m         \u001b[39mf\u001b[39m\u001b[39m\"\u001b[39m\u001b[39mThe amount of qubit arguments \u001b[39m\u001b[39m{\u001b[39;00m\u001b[39mlen\u001b[39m(qargs)\u001b[39m}\u001b[39;00m\u001b[39m does not match\u001b[39m\u001b[39m\"\u001b[39m\n\u001b[1;32m    482\u001b[0m         \u001b[39mf\u001b[39m\u001b[39m\"\u001b[39m\u001b[39m the instruction expectation (\u001b[39m\u001b[39m{\u001b[39;00m\u001b[39mself\u001b[39m\u001b[39m.\u001b[39mnum_qubits\u001b[39m}\u001b[39;00m\u001b[39m).\u001b[39m\u001b[39m\"\u001b[39m\n\u001b[1;32m    483\u001b[0m     )\n\u001b[1;32m    484\u001b[0m \u001b[39mif\u001b[39;00m \u001b[39mlen\u001b[39m(cargs) \u001b[39m!=\u001b[39m \u001b[39mself\u001b[39m\u001b[39m.\u001b[39mnum_clbits:\n\u001b[1;32m    485\u001b[0m     \u001b[39mraise\u001b[39;00m CircuitError(\n\u001b[1;32m    486\u001b[0m         \u001b[39mf\u001b[39m\u001b[39m\"\u001b[39m\u001b[39mThe amount of clbit arguments \u001b[39m\u001b[39m{\u001b[39;00m\u001b[39mlen\u001b[39m(cargs)\u001b[39m}\u001b[39;00m\u001b[39m does not match\u001b[39m\u001b[39m\"\u001b[39m\n\u001b[1;32m    487\u001b[0m         \u001b[39mf\u001b[39m\u001b[39m\"\u001b[39m\u001b[39m the instruction expectation (\u001b[39m\u001b[39m{\u001b[39;00m\u001b[39mself\u001b[39m\u001b[39m.\u001b[39mnum_clbits\u001b[39m}\u001b[39;00m\u001b[39m).\u001b[39m\u001b[39m\"\u001b[39m\n\u001b[1;32m    488\u001b[0m     )\n",
      "\u001b[0;31mCircuitError\u001b[0m: 'The amount of qubit arguments 3 does not match the instruction expectation (5).'"
     ]
    }
   ],
   "source": [
    "\n",
    "circ.append(mult,[qr[2],qr[3], qr[4],qr[5],qr[6],qr[7], qr[8],qr[9]])\n",
    "print(circ)\n",
    "circ.append(circuit_add,[qr[0],qr[1], qr[9]])\n",
    "print(circ)\n"
   ]
  },
  {
   "cell_type": "code",
   "execution_count": 76,
   "metadata": {},
   "outputs": [
    {
     "ename": "CircuitError",
     "evalue": "\"Bit 'Clbit(ClassicalRegister(4, 'c0'), 1)' is not in the circuit.\"",
     "output_type": "error",
     "traceback": [
      "\u001b[0;31m---------------------------------------------------------------------------\u001b[0m",
      "\u001b[0;31mCircuitError\u001b[0m                              Traceback (most recent call last)",
      "Cell \u001b[0;32mIn[76], line 2\u001b[0m\n\u001b[1;32m      1\u001b[0m \u001b[39mfor\u001b[39;00m i \u001b[39min\u001b[39;00m \u001b[39mrange\u001b[39m(\u001b[39m1\u001b[39m,\u001b[39m2\u001b[39m\u001b[39m*\u001b[39mn):\n\u001b[0;32m----> 2\u001b[0m     circ\u001b[39m.\u001b[39;49mmeasure(qr[\u001b[39m2\u001b[39;49m\u001b[39m*\u001b[39;49mn\u001b[39m+\u001b[39;49mi], c[i])\n\u001b[1;32m      4\u001b[0m \u001b[39mprint\u001b[39m(circ)\n\u001b[1;32m      5\u001b[0m backend \u001b[39m=\u001b[39m Aer\u001b[39m.\u001b[39mget_backend(\u001b[39m'\u001b[39m\u001b[39mqasm_simulator\u001b[39m\u001b[39m'\u001b[39m)\n",
      "File \u001b[0;32m~/.local/lib/python3.10/site-packages/qiskit/circuit/quantumcircuit.py:2368\u001b[0m, in \u001b[0;36mQuantumCircuit.measure\u001b[0;34m(self, qubit, cbit)\u001b[0m\n\u001b[1;32m   2295\u001b[0m \u001b[39mdef\u001b[39;00m \u001b[39mmeasure\u001b[39m(\u001b[39mself\u001b[39m, qubit: QubitSpecifier, cbit: ClbitSpecifier) \u001b[39m-\u001b[39m\u001b[39m>\u001b[39m InstructionSet:\n\u001b[1;32m   2296\u001b[0m     \u001b[39mr\u001b[39m\u001b[39m\"\"\"Measure a quantum bit (``qubit``) in the Z basis into a classical bit (``cbit``).\u001b[39;00m\n\u001b[1;32m   2297\u001b[0m \n\u001b[1;32m   2298\u001b[0m \u001b[39m    When a quantum state is measured, a qubit is projected in the computational (Pauli Z) basis\u001b[39;00m\n\u001b[0;32m   (...)\u001b[0m\n\u001b[1;32m   2366\u001b[0m \n\u001b[1;32m   2367\u001b[0m \u001b[39m    \"\"\"\u001b[39;00m\n\u001b[0;32m-> 2368\u001b[0m     \u001b[39mreturn\u001b[39;00m \u001b[39mself\u001b[39;49m\u001b[39m.\u001b[39;49mappend(Measure(), [qubit], [cbit])\n",
      "File \u001b[0;32m~/.local/lib/python3.10/site-packages/qiskit/circuit/quantumcircuit.py:1303\u001b[0m, in \u001b[0;36mQuantumCircuit.append\u001b[0;34m(self, instruction, qargs, cargs)\u001b[0m\n\u001b[1;32m   1300\u001b[0m         operation \u001b[39m=\u001b[39m copy\u001b[39m.\u001b[39mdeepcopy(operation)\n\u001b[1;32m   1302\u001b[0m expanded_qargs \u001b[39m=\u001b[39m [\u001b[39mself\u001b[39m\u001b[39m.\u001b[39mqbit_argument_conversion(qarg) \u001b[39mfor\u001b[39;00m qarg \u001b[39min\u001b[39;00m qargs \u001b[39mor\u001b[39;00m []]\n\u001b[0;32m-> 1303\u001b[0m expanded_cargs \u001b[39m=\u001b[39m [\u001b[39mself\u001b[39m\u001b[39m.\u001b[39mcbit_argument_conversion(carg) \u001b[39mfor\u001b[39;00m carg \u001b[39min\u001b[39;00m cargs \u001b[39mor\u001b[39;00m []]\n\u001b[1;32m   1305\u001b[0m \u001b[39mif\u001b[39;00m \u001b[39mself\u001b[39m\u001b[39m.\u001b[39m_control_flow_scopes:\n\u001b[1;32m   1306\u001b[0m     appender \u001b[39m=\u001b[39m \u001b[39mself\u001b[39m\u001b[39m.\u001b[39m_control_flow_scopes[\u001b[39m-\u001b[39m\u001b[39m1\u001b[39m]\u001b[39m.\u001b[39mappend\n",
      "File \u001b[0;32m~/.local/lib/python3.10/site-packages/qiskit/circuit/quantumcircuit.py:1303\u001b[0m, in \u001b[0;36m<listcomp>\u001b[0;34m(.0)\u001b[0m\n\u001b[1;32m   1300\u001b[0m         operation \u001b[39m=\u001b[39m copy\u001b[39m.\u001b[39mdeepcopy(operation)\n\u001b[1;32m   1302\u001b[0m expanded_qargs \u001b[39m=\u001b[39m [\u001b[39mself\u001b[39m\u001b[39m.\u001b[39mqbit_argument_conversion(qarg) \u001b[39mfor\u001b[39;00m qarg \u001b[39min\u001b[39;00m qargs \u001b[39mor\u001b[39;00m []]\n\u001b[0;32m-> 1303\u001b[0m expanded_cargs \u001b[39m=\u001b[39m [\u001b[39mself\u001b[39;49m\u001b[39m.\u001b[39;49mcbit_argument_conversion(carg) \u001b[39mfor\u001b[39;00m carg \u001b[39min\u001b[39;00m cargs \u001b[39mor\u001b[39;00m []]\n\u001b[1;32m   1305\u001b[0m \u001b[39mif\u001b[39;00m \u001b[39mself\u001b[39m\u001b[39m.\u001b[39m_control_flow_scopes:\n\u001b[1;32m   1306\u001b[0m     appender \u001b[39m=\u001b[39m \u001b[39mself\u001b[39m\u001b[39m.\u001b[39m_control_flow_scopes[\u001b[39m-\u001b[39m\u001b[39m1\u001b[39m]\u001b[39m.\u001b[39mappend\n",
      "File \u001b[0;32m~/.local/lib/python3.10/site-packages/qiskit/circuit/quantumcircuit.py:1198\u001b[0m, in \u001b[0;36mQuantumCircuit.cbit_argument_conversion\u001b[0;34m(self, clbit_representation)\u001b[0m\n\u001b[1;32m   1187\u001b[0m \u001b[39mdef\u001b[39;00m \u001b[39mcbit_argument_conversion\u001b[39m(\u001b[39mself\u001b[39m, clbit_representation: ClbitSpecifier) \u001b[39m-\u001b[39m\u001b[39m>\u001b[39m \u001b[39mlist\u001b[39m[Clbit]:\n\u001b[1;32m   1188\u001b[0m     \u001b[39m\"\"\"\u001b[39;00m\n\u001b[1;32m   1189\u001b[0m \u001b[39m    Converts several classical bit representations (such as indexes, range, etc.)\u001b[39;00m\n\u001b[1;32m   1190\u001b[0m \u001b[39m    into a list of classical bits.\u001b[39;00m\n\u001b[0;32m   (...)\u001b[0m\n\u001b[1;32m   1196\u001b[0m \u001b[39m        List(tuple): Where each tuple is a classical bit.\u001b[39;00m\n\u001b[1;32m   1197\u001b[0m \u001b[39m    \"\"\"\u001b[39;00m\n\u001b[0;32m-> 1198\u001b[0m     \u001b[39mreturn\u001b[39;00m _bit_argument_conversion(\n\u001b[1;32m   1199\u001b[0m         clbit_representation, \u001b[39mself\u001b[39;49m\u001b[39m.\u001b[39;49mclbits, \u001b[39mself\u001b[39;49m\u001b[39m.\u001b[39;49m_clbit_indices, Clbit\n\u001b[1;32m   1200\u001b[0m     )\n",
      "File \u001b[0;32m~/.local/lib/python3.10/site-packages/qiskit/circuit/quantumcircuit.py:5134\u001b[0m, in \u001b[0;36m_bit_argument_conversion\u001b[0;34m(specifier, bit_sequence, bit_set, type_)\u001b[0m\n\u001b[1;32m   5132\u001b[0m     \u001b[39mif\u001b[39;00m specifier \u001b[39min\u001b[39;00m bit_set:\n\u001b[1;32m   5133\u001b[0m         \u001b[39mreturn\u001b[39;00m [specifier]\n\u001b[0;32m-> 5134\u001b[0m     \u001b[39mraise\u001b[39;00m CircuitError(\u001b[39mf\u001b[39m\u001b[39m\"\u001b[39m\u001b[39mBit \u001b[39m\u001b[39m'\u001b[39m\u001b[39m{\u001b[39;00mspecifier\u001b[39m}\u001b[39;00m\u001b[39m'\u001b[39m\u001b[39m is not in the circuit.\u001b[39m\u001b[39m\"\u001b[39m)\n\u001b[1;32m   5135\u001b[0m \u001b[39mif\u001b[39;00m \u001b[39misinstance\u001b[39m(specifier, (\u001b[39mint\u001b[39m, np\u001b[39m.\u001b[39minteger)):\n\u001b[1;32m   5136\u001b[0m     \u001b[39mtry\u001b[39;00m:\n",
      "\u001b[0;31mCircuitError\u001b[0m: \"Bit 'Clbit(ClassicalRegister(4, 'c0'), 1)' is not in the circuit.\""
     ]
    }
   ],
   "source": [
    "for i in range(1,2*n):\n",
    "    circ.measure(qr[2*n+i], c[i])\n",
    "\n",
    "print(circ)\n",
    "backend = Aer.get_backend('qasm_simulator')\n",
    "job = execute(circ, backend, shots=100)\n",
    "result = job.result()\n",
    "counts = result.get_counts()\n",
    "\n",
    "#print(counts)\n",
    "# Récupérer la multiplication en base 10\n",
    "mul_decimal = 0\n",
    "for count in counts:\n",
    "    mul_decimal = int(count[0::], 2)\n",
    "print(mul_decimal)"
   ]
  },
  {
   "cell_type": "code",
   "execution_count": 61,
   "metadata": {},
   "outputs": [
    {
     "data": {
      "text/html": [
       "<pre style=\"word-wrap: normal;white-space: pre;background: #fff0;line-height: 1.1;font-family: &quot;Courier New&quot;,Courier,monospace\">                     \n",
       "q_0: ────────────────\n",
       "     ┌──────────────┐\n",
       "q_1: ┤0             ├\n",
       "     │              │\n",
       "q_2: ┤              ├\n",
       "     │  circuit-737 │\n",
       "q_3: ┤1             ├\n",
       "     │              │\n",
       "q_4: ┤2             ├\n",
       "     └──────────────┘\n",
       "q_5: ────────────────\n",
       "                     </pre>"
      ],
      "text/plain": [
       "                     \n",
       "q_0: ────────────────\n",
       "     ┌──────────────┐\n",
       "q_1: ┤0             ├\n",
       "     │              │\n",
       "q_2: ┤              ├\n",
       "     │  circuit-737 │\n",
       "q_3: ┤1             ├\n",
       "     │              │\n",
       "q_4: ┤2             ├\n",
       "     └──────────────┘\n",
       "q_5: ────────────────\n",
       "                     "
      ]
     },
     "execution_count": 61,
     "metadata": {},
     "output_type": "execute_result"
    }
   ],
   "source": [
    "# Build a sub-circuit\n",
    "n=1\n",
    "q = QuantumRegister(2*n+1, 'q')\n",
    "circuit = QuantumCircuit(q)\n",
    "tmp = DraperQFTAdder(num_state_qubits=1,kind=\"half\",name=\"qft mult\")\n",
    "circuit = circuit.compose(tmp)\n",
    "sub_inst = circuit.to_instruction()\n",
    "qr = QuantumRegister(6, 'q')\n",
    "circ = QuantumCircuit(qr,)\n",
    "circ.append(sub_inst,[qr[1],qr[3], qr[4]])\n",
    "circ.draw()"
   ]
  },
  {
   "cell_type": "code",
   "execution_count": null,
   "metadata": {},
   "outputs": [],
   "source": []
  }
 ],
 "metadata": {
  "kernelspec": {
   "display_name": "Python 3",
   "language": "python",
   "name": "python3"
  },
  "language_info": {
   "codemirror_mode": {
    "name": "ipython",
    "version": 3
   },
   "file_extension": ".py",
   "mimetype": "text/x-python",
   "name": "python",
   "nbconvert_exporter": "python",
   "pygments_lexer": "ipython3",
   "version": "3.10.6"
  },
  "orig_nbformat": 4
 },
 "nbformat": 4,
 "nbformat_minor": 2
}
