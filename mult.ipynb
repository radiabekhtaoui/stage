{
 "cells": [
  {
   "cell_type": "code",
   "execution_count": 2,
   "metadata": {},
   "outputs": [],
   "source": [
    "from qiskit import QuantumRegister, ClassicalRegister, QuantumCircuit, Aer, execute\n",
    "from qiskit.circuit.library import RGQFTMultiplier\n",
    "\n",
    "def multiplication(a, b):\n",
    "    n = max(len(bin(a)), len(bin(b))) - 2\n",
    "\n",
    "    q = QuantumRegister(4*n, 'q')\n",
    "    c = ClassicalRegister(2*n, 'c')\n",
    "\n",
    "    circuit = QuantumCircuit(q, c)\n",
    "\n",
    "    \n",
    "    a_binary = format(a, '0' + str(n) + 'b')[::-1]\n",
    "    b_binary = format(b, '0' + str(n) + 'b')[::-1]\n",
    "\n",
    "    for i in range(n):\n",
    "        if a_binary[i] == '1':\n",
    "            circuit.x(q[i])\n",
    "        if b_binary[i] == '1':\n",
    "            circuit.x(q[i+n])\n",
    "\n",
    "    circuit1 = RGQFTMultiplier(num_state_qubits=n, num_result_qubits=2*n)\n",
    "    circuit = circuit.compose(circuit1)\n",
    "\n",
    "    for i in range(2*n):\n",
    "        circuit.measure(q[2*n+i], c[i])\n",
    "\n",
    "    #print(circuit)\n",
    "\n",
    "    backend = Aer.get_backend('qasm_simulator')\n",
    "    job = execute(circuit, backend, shots=100)\n",
    "    result = job.result()\n",
    "    counts = result.get_counts()\n",
    "\n",
    "    #print(counts)\n",
    "    # Récupérer la multiplication en base 10\n",
    "    mul_decimal = 0\n",
    "    for count in counts:\n",
    "        mul_decimal = int(count[0::], 2)\n",
    "    return mul_decimal\n",
    "\n"
   ]
  },
  {
   "cell_type": "code",
   "execution_count": 3,
   "metadata": {},
   "outputs": [],
   "source": [
    "for i in range(11):\n",
    "    for j in range(11):\n",
    "        assert multiplication(i,j) == i*j"
   ]
  },
  {
   "cell_type": "code",
   "execution_count": null,
   "metadata": {},
   "outputs": [],
   "source": []
  }
 ],
 "metadata": {
  "kernelspec": {
   "display_name": "Python 3",
   "language": "python",
   "name": "python3"
  },
  "language_info": {
   "codemirror_mode": {
    "name": "ipython",
    "version": 3
   },
   "file_extension": ".py",
   "mimetype": "text/x-python",
   "name": "python",
   "nbconvert_exporter": "python",
   "pygments_lexer": "ipython3",
   "version": "3.10.6"
  },
  "orig_nbformat": 4
 },
 "nbformat": 4,
 "nbformat_minor": 2
}
