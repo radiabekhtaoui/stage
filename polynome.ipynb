{
 "cells": [
  {
   "cell_type": "code",
   "execution_count": 14,
   "metadata": {},
   "outputs": [],
   "source": [
    "from qiskit import QuantumRegister, ClassicalRegister, QuantumCircuit, Aer, execute\n",
    "from qiskit.circuit.library import DraperQFTAdder,RGQFTMultiplier"
   ]
  },
  {
   "cell_type": "code",
   "execution_count": 15,
   "metadata": {},
   "outputs": [],
   "source": [
    "def multiplication(a, b) :\n",
    "   \n",
    "    n = max(len(bin(a)), len(bin(b))) - 2\n",
    "\n",
    "    q = QuantumRegister(4*n, 'q')\n",
    "    c = ClassicalRegister(2*n, 'c')\n",
    "\n",
    "    circuit = QuantumCircuit(q, c)\n",
    "    a= format(a, '0' + str(n) + 'b')[::-1]\n",
    "    b= format(b, '0' + str(n) + 'b')[::-1]\n",
    "\n",
    "    for i in range(n):\n",
    "        if a[i] == '1':\n",
    "            circuit.x(q[i])\n",
    "        if b[i] == '1':\n",
    "            circuit.x(q[i+n])\n",
    "\n",
    "    circuit1 = RGQFTMultiplier(num_state_qubits=n, num_result_qubits=2*n)\n",
    "    circuit = circuit.compose(circuit1)\n",
    "    for i in range(2*n):\n",
    "        circuit.measure(q[2*n+i], c[i])\n",
    "    backend = Aer.get_backend('qasm_simulator')\n",
    "    job = execute(circuit, backend, shots=100)\n",
    "    result = job.result()\n",
    "    counts = result.get_counts()\n",
    "    \n",
    "    mul_decimal = 0\n",
    "    for count in counts:\n",
    "        mul_decimal = int(count[0::], 2)\n",
    "    return mul_decimal"
   ]
  },
  {
   "cell_type": "code",
   "execution_count": 16,
   "metadata": {},
   "outputs": [],
   "source": [
    "def addition(a, b) :\n",
    "    \n",
    "    n = max(len(bin(a)), len(bin(b))) - 2\n",
    "    \n",
    "    q = QuantumRegister(2*n+1, 'q')\n",
    "    c = ClassicalRegister(n+1, 'c')\n",
    "\n",
    "    circuit = QuantumCircuit(q, c)\n",
    "    a= format(a, '0' + str(n) + 'b')[::-1]\n",
    "    b= format(b, '0' + str(n) + 'b')[::-1]\n",
    "   \n",
    "    for i in range(n):\n",
    "        if a[i] == '1':\n",
    "            circuit.x(q[i])\n",
    "        if b[i] == '1':\n",
    "            circuit.x(q[i+n])\n",
    "\n",
    "    circuit1 = DraperQFTAdder(num_state_qubits=n,kind=\"half\")\n",
    "    circuit = circuit.compose(circuit1)\n",
    "\n",
    "    for i in range(n+1):\n",
    "        circuit.measure(q[n+i], c[i])\n",
    "    backend = Aer.get_backend('qasm_simulator')\n",
    "    job = execute(circuit, backend, shots=100)\n",
    "    result = job.result()\n",
    "    counts = result.get_counts()\n",
    "\n",
    "    mul_decimal = 0\n",
    "    for count in counts:\n",
    "        mul_decimal = int(count[0::], 2)\n",
    "    return mul_decimal"
   ]
  },
  {
   "cell_type": "code",
   "execution_count": 18,
   "metadata": {},
   "outputs": [
    {
     "name": "stdout",
     "output_type": "stream",
     "text": [
      "x^²= 1\n",
      "x^2*a_2= 3\n",
      "x*a_1= 2\n",
      "x^2*a2 + x*a1 = 5\n",
      "p= 6\n"
     ]
    }
   ],
   "source": [
    "a0 = 1\n",
    "a1 = 2\n",
    "a2 = 3\n",
    "x = 1\n"
   ]
  },
  {
   "cell_type": "code",
   "execution_count": null,
   "metadata": {},
   "outputs": [],
   "source": [
    "\n",
    "#version naive\n",
    "x_2= multiplication(x,x)\n",
    "print(\"x^²=\", x_2)\n",
    "mult_2= multiplication(x_2,a2)\n",
    "print(\"x^2*a_2=\",mult_2)\n",
    "mult_1= multiplication(x,a1)\n",
    "print(\"x*a_1=\",mult_1)\n",
    "sum_1= addition(mult_1,mult_2)\n",
    "print(\"x^2*a2 + x*a1 =\",sum_1)\n",
    "p= addition(sum_1,a0)\n",
    "print(\"p=\",p)"
   ]
  },
  {
   "cell_type": "code",
   "execution_count": 19,
   "metadata": {},
   "outputs": [
    {
     "name": "stdout",
     "output_type": "stream",
     "text": [
      "6\n"
     ]
    }
   ],
   "source": [
    "#shema horner\n",
    "p=addition(a0,multiplication(x,addition(a1,multiplication(a2,x))))\n",
    "print(p)"
   ]
  }
 ],
 "metadata": {
  "kernelspec": {
   "display_name": "Python 3",
   "language": "python",
   "name": "python3"
  },
  "language_info": {
   "codemirror_mode": {
    "name": "ipython",
    "version": 3
   },
   "file_extension": ".py",
   "mimetype": "text/x-python",
   "name": "python",
   "nbconvert_exporter": "python",
   "pygments_lexer": "ipython3",
   "version": "3.10.6"
  },
  "orig_nbformat": 4
 },
 "nbformat": 4,
 "nbformat_minor": 2
}
