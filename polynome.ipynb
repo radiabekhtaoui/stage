{
 "cells": [
  {
   "cell_type": "code",
   "execution_count": 3,
   "metadata": {},
   "outputs": [],
   "source": [
    "from qiskit import QuantumRegister, ClassicalRegister, QuantumCircuit, Aer, execute\n",
    "from qiskit.circuit.library import DraperQFTAdder,RGQFTMultiplier\n",
    "from addition_draperQFT import addition\n",
    "from multiplication_RGQFT import multiplication"
   ]
  },
  {
   "cell_type": "code",
   "execution_count": 4,
   "metadata": {},
   "outputs": [],
   "source": [
    "a0 = 1\n",
    "a1 = 2\n",
    "a2 = 3\n",
    "x = 1\n"
   ]
  },
  {
   "cell_type": "code",
   "execution_count": 5,
   "metadata": {},
   "outputs": [
    {
     "name": "stdout",
     "output_type": "stream",
     "text": [
      "x^²= 1\n",
      "x^2*a_2= 3\n",
      "x*a_1= 2\n",
      "x^2*a2 + x*a1 = 5\n",
      "p= 6\n"
     ]
    }
   ],
   "source": [
    "\n",
    "#version naive\n",
    "x_2= multiplication(x,x)\n",
    "print(\"x^²=\", x_2)\n",
    "mult_2= multiplication(x_2,a2)\n",
    "print(\"x^2*a_2=\",mult_2)\n",
    "mult_1= multiplication(x,a1)\n",
    "print(\"x*a_1=\",mult_1)\n",
    "sum_1= addition(mult_1,mult_2)\n",
    "print(\"x^2*a2 + x*a1 =\",sum_1)\n",
    "p= addition(sum_1,a0)\n",
    "print(\"p=\",p)"
   ]
  },
  {
   "cell_type": "code",
   "execution_count": 6,
   "metadata": {},
   "outputs": [
    {
     "name": "stdout",
     "output_type": "stream",
     "text": [
      "6\n"
     ]
    }
   ],
   "source": [
    "#shema horner\n",
    "p=addition(a0,multiplication(x,addition(a1,multiplication(a2,x))))\n",
    "print(p)"
   ]
  }
 ],
 "metadata": {
  "kernelspec": {
   "display_name": "Python 3",
   "language": "python",
   "name": "python3"
  },
  "language_info": {
   "codemirror_mode": {
    "name": "ipython",
    "version": 3
   },
   "file_extension": ".py",
   "mimetype": "text/x-python",
   "name": "python",
   "nbconvert_exporter": "python",
   "pygments_lexer": "ipython3",
   "version": "3.10.6"
  },
  "orig_nbformat": 4
 },
 "nbformat": 4,
 "nbformat_minor": 2
}
