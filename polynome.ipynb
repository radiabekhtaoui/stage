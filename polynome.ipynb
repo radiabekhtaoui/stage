{
 "cells": [
  {
   "cell_type": "code",
   "execution_count": null,
   "metadata": {},
   "outputs": [],
   "source": [
    "from qiskit import QuantumRegister, ClassicalRegister, QuantumCircuit, Aer, execute\n",
    "from qiskit.circuit.library import DraperQFTAdder"
   ]
  },
  {
   "cell_type": "code",
   "execution_count": null,
   "metadata": {},
   "outputs": [],
   "source": [
    "\n",
    "# Fonction pour initialiser le polynôme de degré deux avec la porte X\n",
    "def initialize_polynomial(a0, a1, a2, x):\n",
    "\n",
    "    n = max(len(bin(a0)), len(bin(a1)),len(bin(a2)),len(bin(x))) - 2\n",
    "    \n",
    "    q = QuantumRegister(4*n, 'q')\n",
    "    c = ClassicalRegister(n+1, 'c')\n",
    "\n",
    "    \n",
    "    # Création du circuit quantique\n",
    "    circuit = QuantumCircuit(q,c)\n",
    "\n",
    "    a0_binary = format(a0, '0' + str(n) + 'b')[::-1]\n",
    "    a1_binary = format(a1, '0' + str(n) + 'b')[::-1]\n",
    "    a2_binary = format(a2, '0' + str(n) + 'b')[::-1]\n",
    "    x_binary = format(x, '0' + str(n) + 'b')[::-1]\n",
    "    for i in range(n):\n",
    "        if a0_binary[i] == '1':\n",
    "            circuit.x(i)\n",
    "        if a1_binary[i] == '1':\n",
    "            circuit.x(i+n)\n",
    "        if a2_binary[i] == '1':\n",
    "            circuit.x(i+2*n)\n",
    "        if x_binary[i] == '1':\n",
    "            circuit.x(i+3*n)\n",
    "    \n",
    "    circuit_res_mult1 = multiplication(a2_binary, x_binary,circuit ,n)\n",
    "    \n",
    "    print(circuit_res_mult1)\n",
    "    \n",
    "    \n",
    "    \n",
    "    \n",
    "    return circuit\n",
    "\n",
    "\n",
    "    \n",
    "# Paramètres du polynôme et de la valeur x\n",
    "a0 = 1\n",
    "a1 = 2\n",
    "a2 = 3\n",
    "x = 4\n",
    "\n",
    "# Initialisation du polynôme\n",
    "circuit = initialize_polynomial(a0, a1, a2, x)\n",
    "#circuit_drawer(circuit, output='mpl', filename=\"poly.png\")\n",
    "\n"
   ]
  }
 ],
 "metadata": {
  "language_info": {
   "name": "python"
  },
  "orig_nbformat": 4
 },
 "nbformat": 4,
 "nbformat_minor": 2
}
